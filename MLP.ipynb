{
 "cells": [
  {
   "attachments": {},
   "cell_type": "markdown",
   "metadata": {},
   "source": [
    "# Implémentation d'un perceptron multi-couche en numpy"
   ]
  },
  {
   "cell_type": "code",
   "execution_count": 23,
   "metadata": {},
   "outputs": [],
   "source": [
    "import numpy as np\n",
    "import matplotlib.pyplot as plt\n",
    "from tqdm import tqdm"
   ]
  },
  {
   "attachments": {},
   "cell_type": "markdown",
   "metadata": {},
   "source": [
    "### Générer des données aléatoirement"
   ]
  },
  {
   "cell_type": "code",
   "execution_count": 24,
   "metadata": {},
   "outputs": [
    {
     "data": {
      "text/plain": [
       "\"\\n# Pour tester pour des données fixes\\ndef data():\\n    X = np.array([[,], [,], [,], [,], [,], [,], [,], [,], [,], [,]])\\n    X = X.reshape(2, X.shape[0])                             # Redimensionner X pour qu'il soit de la forme (2, 10)\\n    y = np.array([0, 0, 0, 0, 0, 1, 1, 1, 1, 1])             # Attribuer des étiquettes à chaque classe de manière équitable\\n    y = y.reshape(1, y.shape[0])                             # Redimensionner y pour qu'il soit de la forme (1, 10)\\n    return X, y\\n\""
      ]
     },
     "execution_count": 24,
     "metadata": {},
     "output_type": "execute_result"
    }
   ],
   "source": [
    "def data():\n",
    "    np.random.seed(1)\n",
    "    X = np.random.rand(2, 10)                                # Générer des données aléatoires de 2 dimensions et 10 exemples\n",
    "    y = np.array([0, 0, 0, 0, 0, 1, 1, 1, 1, 1])             # Attribuer des étiquettes à chaque classe de manière équitable\n",
    "    y = y.reshape(1, y.shape[0])                             # Redimensionner y pour qu'il soit de la forme (1, 10)\n",
    "    return X, y\n",
    "\n",
    "'''\n",
    "# Pour tester pour des données fixes\n",
    "def data():\n",
    "    X = np.array([[,], [,], [,], [,], [,], [,], [,], [,], [,], [,]])\n",
    "    X = X.reshape(2, X.shape[0])                             # Redimensionner X pour qu'il soit de la forme (2, 10)\n",
    "    y = np.array([0, 0, 0, 0, 0, 1, 1, 1, 1, 1])             # Attribuer des étiquettes à chaque classe de manière équitable\n",
    "    y = y.reshape(1, y.shape[0])                             # Redimensionner y pour qu'il soit de la forme (1, 10)\n",
    "    return X, y\n",
    "'''"
   ]
  },
  {
   "attachments": {},
   "cell_type": "markdown",
   "metadata": {},
   "source": [
    "### La fonction Loss"
   ]
  },
  {
   "cell_type": "code",
   "execution_count": 25,
   "metadata": {},
   "outputs": [],
   "source": [
    "def loss(y_true, y_pred):\n",
    "    return np.linalg.norm((y_true - y_pred)**2, axis=1) / 2    # Fonction de coût \n",
    "\n",
    "def plot_loss(losses):                                         # Fonction pour tracer les courbes de perte \n",
    "    plt.plot(losses)\n",
    "    plt.xlabel('Epochs')\n",
    "    plt.ylabel('Loss')\n",
    "    plt.show()"
   ]
  },
  {
   "attachments": {},
   "cell_type": "markdown",
   "metadata": {},
   "source": [
    "### Architecture du réseau"
   ]
  },
  {
   "cell_type": "code",
   "execution_count": 26,
   "metadata": {},
   "outputs": [],
   "source": [
    "def layers_neur(layers):\n",
    "    parametres = {}                                                                # Initialiser un dictionnaire vide pour stocker les paramètres\n",
    "    C = len(layers)                                                                # Nombre de couches\n",
    "    for c in range(1, C):\n",
    "        parametres['W' + str(c)] = np.random.randn(layers[c], layers[c - 1])       # Initialiser les poids aléatoirement\n",
    "        parametres['b' + str(c)] = np.random.randn(layers[c], 1)                   # Initialiser les biais aléatoirement\n",
    "    return parametres"
   ]
  },
  {
   "attachments": {},
   "cell_type": "markdown",
   "metadata": {},
   "source": [
    "### Forward"
   ]
  },
  {
   "cell_type": "code",
   "execution_count": 27,
   "metadata": {},
   "outputs": [],
   "source": [
    "def forward_propagation(X, parametres):\n",
    "    activations = {'A0': X}                                                                               # Initialiser un dictionnaire vide pour stocker les activations\n",
    "    C = len(parametres) // 2                                                                              # Nombre de couches\n",
    "    for c in range(1, C + 1):\n",
    "        Z = parametres['W' + str(c)].dot(activations['A' + str(c - 1)]) + parametres['b' + str(c)]        # Calculer Z = W * A + b\n",
    "        activations['A' + str(c)] = 1 / (1 + np.exp(-Z))                                                  # Calculer l'activation A = sigmoïde(Z)\n",
    "    return activations"
   ]
  },
  {
   "attachments": {},
   "cell_type": "markdown",
   "metadata": {},
   "source": [
    "### Backpropagation"
   ]
  },
  {
   "cell_type": "code",
   "execution_count": 28,
   "metadata": {},
   "outputs": [],
   "source": [
    "def back_propagation(y, parametres, activations):\n",
    "    m = y.shape[1]                                                                                                               # Nombre de données\n",
    "    C = len(parametres) // 2                                                                                                     # Nombre de couches\n",
    "    dZ = activations['A' + str(C)] - y                                                                                           # Calculer dZ = A - y\n",
    "    gradients = {}                                                                                                               # Initialiser un dictionnaire vide pour stocker les gradients\n",
    "    for c in reversed(range(1, C + 1)):\n",
    "        gradients['dW' + str(c)] = 1/m * np.dot(dZ, activations['A' + str(c - 1)].T)                                             # Calculer dW = 1/m * dZ * A.T\n",
    "        gradients['db' + str(c)] = 1/m * np.sum(dZ, axis=1, keepdims=True)                                                       # Calculer db = 1/m * somme(dZ)\n",
    "        if c > 1:\n",
    "            dZ = np.dot(parametres['W' + str(c)].T, dZ) * activations['A' + str(c - 1)] * (1 - activations['A' + str(c - 1)])     # Calculer dZ = W.T * dZ * sigmoïde'(A)\n",
    "    return gradients"
   ]
  },
  {
   "attachments": {},
   "cell_type": "markdown",
   "metadata": {},
   "source": [
    "### Incrémentation"
   ]
  },
  {
   "cell_type": "code",
   "execution_count": 29,
   "metadata": {},
   "outputs": [],
   "source": [
    "def update(gradients, parametres, learning_rate):\n",
    "    C = len(parametres) // 2                                                                             # Nombre de couches\n",
    "    for c in range(1, C + 1):\n",
    "        parametres['W' + str(c)] = parametres['W' + str(c)] - learning_rate * gradients['dW' + str(c)]   # Mettre à jour les poids\n",
    "        parametres['b' + str(c)] = parametres['b' + str(c)] - learning_rate * gradients['db' + str(c)]   # Mettre à jour les biais\n",
    "    return parametres"
   ]
  },
  {
   "attachments": {},
   "cell_type": "markdown",
   "metadata": {},
   "source": [
    "### Entrainement du modèle"
   ]
  },
  {
   "cell_type": "code",
   "execution_count": 30,
   "metadata": {},
   "outputs": [],
   "source": [
    "def train(X, y, layers, learning_rate, num_iterations, batch_size):\n",
    "    parametres = layers_neur(layers)                                                                 # Initialiser les paramètres\n",
    "    losses = []                                                                                      # Initialiser la liste des pertes\n",
    "    #accuracy =[]                                                                                    # Initialiser la liste des précisions\n",
    "    for i in tqdm(range(num_iterations)):\n",
    "        for j in range(0, X.shape[1], batch_size):                                                   # Parcourir les données par lots + descente de gradient stochastique\n",
    "            activations = forward_propagation(X[:, j:j+batch_size], parametres)                      # Calculer les activations\n",
    "            gradients = back_propagation(y[:, j:j+batch_size], parametres, activations)              # Calculer les gradients\n",
    "            parametres = update(gradients, parametres, learning_rate)                                # Mettre à jour les paramètres\n",
    "        activations = forward_propagation(X, parametres)                                             # Calculer les activations\n",
    "        losses.append(loss(y, activations['A' + str(len(layers) - 1)]))                              # Calculer la perte\n",
    "        #accuracy.append(np.mean(np.round(activations['A' + str(len(layers) - 1)]) == y))            # Calculer la précision\n",
    "        if i % 1000 == 0:\n",
    "            print(f'Loss = {losses[-1]}')                                                            # Afficher la perte et la précision à chaque 1000 itérations\n",
    "    return parametres, losses"
   ]
  },
  {
   "attachments": {},
   "cell_type": "markdown",
   "metadata": {},
   "source": [
    "### La frontière de décision"
   ]
  },
  {
   "cell_type": "code",
   "execution_count": 31,
   "metadata": {},
   "outputs": [],
   "source": [
    "def boundary(X, y, parametres):\n",
    "    xx, yy = np.meshgrid(np.linspace(0, 1, 100), np.linspace(0, 1, 100))                             # Créer une grille\n",
    "    X_test = np.c_[xx.ravel(), yy.ravel()]                                                           # Créer un ensemble de données de test\n",
    "    activations = forward_propagation(X_test.T, parametres)                                          # Calculer les activations\n",
    "    y_pred = np.round(activations['A' + str(len(layers) - 1)])                                       # Prédire les classes\n",
    "    plt.figure()\n",
    "    plt.title(f\"Classification avec {len(layers)-2} couches cachées\")\n",
    "    plt.contourf(xx, yy, np.resize(y_pred, xx.shape), cmap='Spectral', alpha=0.5)                    # Tracer la frontière de décision \n",
    "    plt.scatter(X[0, :], X[1, :], c=y, cmap='Spectral')                                              # Tracer les données d'entrainement\n",
    "    plt.show()"
   ]
  },
  {
   "attachments": {},
   "cell_type": "markdown",
   "metadata": {},
   "source": [
    "### Paramètres du modèle"
   ]
  },
  {
   "cell_type": "code",
   "execution_count": 32,
   "metadata": {},
   "outputs": [],
   "source": [
    "X, y = data()                                   # Générer les données d'entrainement aléatoirement\n",
    "layers = [2, 2, 3, 1]                           # Définir le nombre de neurones par couche\n",
    "learning_rate = 0.1                             # Définir le taux d'apprentissage\n",
    "num_iterations = 20000                          # Définir le nombre d'itérations\n",
    "batch_size = 1                                  # Définir la taille des lots"
   ]
  },
  {
   "cell_type": "code",
   "execution_count": 33,
   "metadata": {},
   "outputs": [
    {
     "name": "stderr",
     "output_type": "stream",
     "text": [
      "  0%|          | 45/20000 [00:00<01:28, 225.03it/s]"
     ]
    },
    {
     "name": "stdout",
     "output_type": "stream",
     "text": [
      "Loss = [0.46949541]\n"
     ]
    },
    {
     "name": "stderr",
     "output_type": "stream",
     "text": [
      "  5%|▌         | 1050/20000 [00:02<00:42, 447.97it/s]"
     ]
    },
    {
     "name": "stdout",
     "output_type": "stream",
     "text": [
      "Loss = [0.40131709]\n"
     ]
    },
    {
     "name": "stderr",
     "output_type": "stream",
     "text": [
      " 10%|█         | 2029/20000 [00:23<01:04, 279.89it/s]"
     ]
    },
    {
     "name": "stdout",
     "output_type": "stream",
     "text": [
      "Loss = [0.3985363]\n"
     ]
    },
    {
     "name": "stderr",
     "output_type": "stream",
     "text": [
      " 15%|█▌        | 3049/20000 [00:26<01:08, 248.46it/s]"
     ]
    },
    {
     "name": "stdout",
     "output_type": "stream",
     "text": [
      "Loss = [0.28598369]\n"
     ]
    },
    {
     "name": "stderr",
     "output_type": "stream",
     "text": [
      " 20%|██        | 4045/20000 [00:30<00:41, 384.66it/s]"
     ]
    },
    {
     "name": "stdout",
     "output_type": "stream",
     "text": [
      "Loss = [0.29572429]\n"
     ]
    },
    {
     "name": "stderr",
     "output_type": "stream",
     "text": [
      " 25%|██▌       | 5045/20000 [2:41:25<00:56, 266.72it/s]   "
     ]
    },
    {
     "name": "stdout",
     "output_type": "stream",
     "text": [
      "Loss = [0.29574759]\n"
     ]
    },
    {
     "name": "stderr",
     "output_type": "stream",
     "text": [
      " 30%|███       | 6051/20000 [2:41:28<00:37, 374.11it/s]"
     ]
    },
    {
     "name": "stdout",
     "output_type": "stream",
     "text": [
      "Loss = [0.28596966]\n"
     ]
    },
    {
     "name": "stderr",
     "output_type": "stream",
     "text": [
      " 35%|███▌      | 7054/20000 [2:41:30<00:31, 412.93it/s]"
     ]
    },
    {
     "name": "stdout",
     "output_type": "stream",
     "text": [
      "Loss = [0.4147028]\n"
     ]
    },
    {
     "name": "stderr",
     "output_type": "stream",
     "text": [
      " 40%|████      | 8019/20000 [2:41:35<02:06, 94.48it/s] "
     ]
    },
    {
     "name": "stdout",
     "output_type": "stream",
     "text": [
      "Loss = [0.00050136]\n"
     ]
    },
    {
     "name": "stderr",
     "output_type": "stream",
     "text": [
      " 45%|████▌     | 9067/20000 [2:41:39<00:31, 352.26it/s]"
     ]
    },
    {
     "name": "stdout",
     "output_type": "stream",
     "text": [
      "Loss = [0.00014541]\n"
     ]
    },
    {
     "name": "stderr",
     "output_type": "stream",
     "text": [
      " 50%|█████     | 10031/20000 [2:41:44<00:48, 204.07it/s]"
     ]
    },
    {
     "name": "stdout",
     "output_type": "stream",
     "text": [
      "Loss = [7.05848037e-05]\n"
     ]
    },
    {
     "name": "stderr",
     "output_type": "stream",
     "text": [
      " 55%|█████▌    | 11015/20000 [2:41:47<00:41, 215.60it/s]"
     ]
    },
    {
     "name": "stdout",
     "output_type": "stream",
     "text": [
      "Loss = [4.16318299e-05]\n"
     ]
    },
    {
     "name": "stderr",
     "output_type": "stream",
     "text": [
      " 60%|██████    | 12057/20000 [2:41:51<00:25, 312.57it/s]"
     ]
    },
    {
     "name": "stdout",
     "output_type": "stream",
     "text": [
      "Loss = [2.73416112e-05]\n"
     ]
    },
    {
     "name": "stderr",
     "output_type": "stream",
     "text": [
      " 65%|██████▌   | 13042/20000 [2:41:53<00:16, 414.44it/s]"
     ]
    },
    {
     "name": "stdout",
     "output_type": "stream",
     "text": [
      "Loss = [1.92534307e-05]\n"
     ]
    },
    {
     "name": "stderr",
     "output_type": "stream",
     "text": [
      " 70%|███████   | 14081/20000 [2:41:56<00:12, 461.84it/s]"
     ]
    },
    {
     "name": "stdout",
     "output_type": "stream",
     "text": [
      "Loss = [1.4244296e-05]\n"
     ]
    },
    {
     "name": "stderr",
     "output_type": "stream",
     "text": [
      " 76%|███████▌  | 15109/20000 [2:41:58<00:09, 535.90it/s]"
     ]
    },
    {
     "name": "stdout",
     "output_type": "stream",
     "text": [
      "Loss = [1.09354315e-05]\n"
     ]
    },
    {
     "name": "stderr",
     "output_type": "stream",
     "text": [
      " 80%|████████  | 16076/20000 [2:41:59<00:07, 540.67it/s]"
     ]
    },
    {
     "name": "stdout",
     "output_type": "stream",
     "text": [
      "Loss = [8.64050056e-06]\n"
     ]
    },
    {
     "name": "stderr",
     "output_type": "stream",
     "text": [
      " 85%|████████▌ | 17066/20000 [2:42:02<00:05, 524.97it/s]"
     ]
    },
    {
     "name": "stdout",
     "output_type": "stream",
     "text": [
      "Loss = [6.98668537e-06]\n"
     ]
    },
    {
     "name": "stderr",
     "output_type": "stream",
     "text": [
      " 90%|█████████ | 18044/20000 [2:42:04<00:05, 386.67it/s]"
     ]
    },
    {
     "name": "stdout",
     "output_type": "stream",
     "text": [
      "Loss = [5.75745762e-06]\n"
     ]
    },
    {
     "name": "stderr",
     "output_type": "stream",
     "text": [
      " 95%|█████████▌| 19037/20000 [2:42:07<00:02, 360.45it/s]"
     ]
    },
    {
     "name": "stdout",
     "output_type": "stream",
     "text": [
      "Loss = [4.82019298e-06]\n"
     ]
    },
    {
     "name": "stderr",
     "output_type": "stream",
     "text": [
      "100%|██████████| 20000/20000 [2:42:10<00:00,  2.06it/s] \n"
     ]
    },
    {
     "data": {
      "image/png": "[encoded data removed]",
      "text/plain": [
       "<Figure size 640x480 with 1 Axes>"
      ]
     },
     "metadata": {},
     "output_type": "display_data"
    },
    {
     "data": {
      "image/png": "[encoded data removed]",
      "text/plain": [
       "<Figure size 640x480 with 1 Axes>"
      ]
     },
     "metadata": {},
     "output_type": "display_data"
    }
   ],
   "source": [
    "parametres, losses= train(X, y, layers, learning_rate, num_iterations, batch_size)                 # Entrainement du modèle\n",
    "plot_loss(losses)                                                                                  # Afficher la perte et la précision\n",
    "boundary(X, y, parametres)                                                                         # Afficher la frontière de décision"
   ]
  }
 ],
 "metadata": {
  "kernelspec": {
   "display_name": "base",
   "language": "python",
   "name": "python3"
  },
  "language_info": {
   "codemirror_mode": {
    "name": "ipython",
    "version": 3
   },
   "file_extension": ".py",
   "mimetype": "text/x-python",
   "name": "python",
   "nbconvert_exporter": "python",
   "pygments_lexer": "ipython3",
   "version": "3.9.12"
  },
  "orig_nbformat": 4
 },
 "nbformat": 4,
 "nbformat_minor": 2
}
